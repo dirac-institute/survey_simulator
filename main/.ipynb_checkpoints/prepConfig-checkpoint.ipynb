{
 "cells": [
  {
   "cell_type": "code",
   "execution_count": 1,
   "metadata": {},
   "outputs": [],
   "source": [
    "#input - survey database, pop model files,  "
   ]
  },
  {
   "cell_type": "code",
   "execution_count": 1,
   "metadata": {},
   "outputs": [],
   "source": [
    "import configparser\n",
    "import argparse\n",
    "import pandas as pd\n",
    "import re"
   ]
  },
  {
   "cell_type": "code",
   "execution_count": 12,
   "metadata": {},
   "outputs": [],
   "source": [
    "#parser = argparse.ArgumentParser()\n",
    "#parser.add_argument('input', type=str, help='Asteroid Population Model File')\n",
    "#parser.add_argument('-f')\n",
    "#args = parser.parse_args()\n",
    "\n",
    "config = configparser.ConfigParser()\n",
    "config.read('template.config')\n",
    "\n",
    "fileloc = '../data/S0.ssm'\n",
    "filename = re.split('/', fileloc)[-1]\n",
    "filename = re.split('\\.', filename)[0]\n",
    "systemModel = pd.read_csv(fileloc, sep='\\s+')\n",
    "\n",
    "#Number of Object IDs in population model, if other columns dont have the same number your model is whack \n",
    "nAst = systemModel.count()['!!OID']\n",
    "\n",
    "config['ASTEROID']['Population model'] = fileloc\n",
    "config['ASTEROID']['Asteroid SPKs'] = filename + '_obj_'\n",
    "config['ASTEROID']['Asteroid SPK path'] = '../horizons/' + filename\n",
    "config['ASTEROID']['nObjects'] = str(nAst)\n",
    "\n",
    "#configFile = open('configs/' + filename + '.config', 'w+')\n",
    "with open('../data/configs/' + filename + '.config', 'w+') as configFile:\n",
    "    config.write(configFile)"
   ]
  },
  {
   "cell_type": "code",
   "execution_count": 9,
   "metadata": {},
   "outputs": [
    {
     "data": {
      "text/plain": [
       "<_io.TextIOWrapper name='configs/S0.config' mode='w+' encoding='UTF-8'>"
      ]
     },
     "execution_count": 9,
     "metadata": {},
     "output_type": "execute_result"
    }
   ],
   "source": [
    "configFile"
   ]
  },
  {
   "cell_type": "code",
   "execution_count": 13,
   "metadata": {},
   "outputs": [
    {
     "data": {
      "text/plain": [
       "['CONF', 'CAMERA', 'ASTEROID', 'SURVEY']"
      ]
     },
     "execution_count": 13,
     "metadata": {},
     "output_type": "execute_result"
    }
   ],
   "source": [
    "config.sections()"
   ]
  },
  {
   "cell_type": "code",
   "execution_count": 11,
   "metadata": {},
   "outputs": [
    {
     "name": "stdout",
     "output_type": "stream",
     "text": [
      "spice metakernel\n",
      "planetary ephem\n",
      "data path\n",
      "n_proc\n"
     ]
    }
   ],
   "source": [
    "for i in config['CONF']:\n",
    "    print(i)"
   ]
  },
  {
   "cell_type": "code",
   "execution_count": null,
   "metadata": {},
   "outputs": [],
   "source": []
  }
 ],
 "metadata": {
  "kernelspec": {
   "display_name": "Python 3",
   "language": "python",
   "name": "python3"
  },
  "language_info": {
   "codemirror_mode": {
    "name": "ipython",
    "version": 3
   },
   "file_extension": ".py",
   "mimetype": "text/x-python",
   "name": "python",
   "nbconvert_exporter": "python",
   "pygments_lexer": "ipython3",
   "version": "3.7.4"
  }
 },
 "nbformat": 4,
 "nbformat_minor": 4
}
